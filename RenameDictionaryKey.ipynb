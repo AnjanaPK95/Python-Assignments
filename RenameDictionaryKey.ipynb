{
 "cells": [
  {
   "cell_type": "code",
   "execution_count": null,
   "id": "c42814a6",
   "metadata": {},
   "outputs": [],
   "source": [
    "#Program to rename a key City to Location in dictionary\n",
    "\n",
    "sample_dic={\"name\":\"John\",\"age\":50,\"salary\":8000,\"city\":\"New York\"}\n",
    "print(sample_dic)\n",
    "sample_dic[\"Location\"]=sample_dic[\"city\"]\n",
    "del sample"
   ]
  }
 ],
 "metadata": {
  "kernelspec": {
   "display_name": "Python 3 (ipykernel)",
   "language": "python",
   "name": "python3"
  },
  "language_info": {
   "codemirror_mode": {
    "name": "ipython",
    "version": 3
   },
   "file_extension": ".py",
   "mimetype": "text/x-python",
   "name": "python",
   "nbconvert_exporter": "python",
   "pygments_lexer": "ipython3",
   "version": "3.10.9"
  }
 },
 "nbformat": 4,
 "nbformat_minor": 5
}
