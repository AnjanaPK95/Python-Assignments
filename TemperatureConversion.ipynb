{
 "cells": [
  {
   "cell_type": "code",
   "execution_count": 1,
   "id": "b8fa3d90",
   "metadata": {},
   "outputs": [
    {
     "name": "stdout",
     "output_type": "stream",
     "text": [
      "Temperature in Fahrenheit = 41\n",
      "Temperature in Celsius =  5.0\n"
     ]
    }
   ],
   "source": [
    "#Program to convert temperature from Fahrenheit to Celsius\n",
    "\n",
    "ftemp=float(input(\"Temperature in Fahrenheit = \"))\n",
    "celsius=(ftemp-32)*5/9\n",
    "print(\"Temperature in Celsius = \",celsius)"
   ]
  },
  {
   "cell_type": "code",
   "execution_count": null,
   "id": "2d222c7d",
   "metadata": {},
   "outputs": [],
   "source": []
  }
 ],
 "metadata": {
  "kernelspec": {
   "display_name": "Python 3 (ipykernel)",
   "language": "python",
   "name": "python3"
  },
  "language_info": {
   "codemirror_mode": {
    "name": "ipython",
    "version": 3
   },
   "file_extension": ".py",
   "mimetype": "text/x-python",
   "name": "python",
   "nbconvert_exporter": "python",
   "pygments_lexer": "ipython3",
   "version": "3.10.9"
  }
 },
 "nbformat": 4,
 "nbformat_minor": 5
}
