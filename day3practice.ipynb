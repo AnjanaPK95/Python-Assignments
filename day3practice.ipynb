{
 "cells": [
  {
   "cell_type": "code",
   "execution_count": 1,
   "id": "682f199b",
   "metadata": {},
   "outputs": [
    {
     "name": "stdout",
     "output_type": "stream",
     "text": [
      "Score of runner up =  57\n"
     ]
    }
   ],
   "source": [
    "#Program to create an array of scores and print the runner up score \n",
    "score=[34,65,57,44,29,35]\n",
    "score.sort()\n",
    "print(\"Score of runner up = \",score[-2])"
   ]
  },
  {
   "cell_type": "code",
   "execution_count": 13,
   "id": "95c94804",
   "metadata": {},
   "outputs": [
    {
     "name": "stdout",
     "output_type": "stream",
     "text": [
      "Enter a name Ram\n",
      "{'John': [25, 32, 43], 'Peter': [87, 55, 96], 'Ram': [88, 77, 99], 'Meena': [63, 79, 85]}\n"
     ]
    }
   ],
   "source": [
    "#Program to get a name from user if the name in dictionary change it's value to [88,77,99]\n",
    "D={\"John\":[25,32,43],\"Peter\":[87,55,96],\"Ram\":[58,55,43],\"Meena\":[63,79,85]}\n",
    "\n",
    "name=input(\"Enter a name: \")\n",
    "if name in D:\n",
    "    D[name]=[88,77,99]\n",
    "    print(D)\n",
    "else:\n",
    "    print(\"Name not found!\")\n",
    "    \n",
    "    "
   ]
  },
  {
   "cell_type": "code",
   "execution_count": 9,
   "id": "0a8e6023",
   "metadata": {},
   "outputs": [
    {
     "name": "stdout",
     "output_type": "stream",
     "text": [
      "enter the age12\n",
      "1.Male  2.Female\n",
      " Enter your option2\n",
      "Ticket price=  5.0\n"
     ]
    }
   ],
   "source": [
    "#Ticket price calculator\n",
    "\n",
    "age=int(input(\"enter the age\"))\n",
    "gender=int(input(\"1.Male  2.Female\\n Enter your option\"))\n",
    "if age<5:\n",
    "    price=0\n",
    "    print(\"Ticket Price= \",price)\n",
    "elif age>=5 and age<=12:\n",
    "    price=10\n",
    "    if gender==2:\n",
    "        price=price*.5\n",
    "    print(\"Ticket price= \",price) \n",
    "elif age>12:\n",
    "    price=50\n",
    "    if gender==2:\n",
    "        price=price*.5\n",
    "    print(\"Ticket price= \",price) \n",
    "elif age>60:\n",
    "    price=0\n",
    "    print(\"Ticket price= \",price) "
   ]
  },
  {
   "cell_type": "code",
   "execution_count": null,
   "id": "8b73992c",
   "metadata": {},
   "outputs": [],
   "source": []
  }
 ],
 "metadata": {
  "kernelspec": {
   "display_name": "Python 3 (ipykernel)",
   "language": "python",
   "name": "python3"
  },
  "language_info": {
   "codemirror_mode": {
    "name": "ipython",
    "version": 3
   },
   "file_extension": ".py",
   "mimetype": "text/x-python",
   "name": "python",
   "nbconvert_exporter": "python",
   "pygments_lexer": "ipython3",
   "version": "3.10.9"
  }
 },
 "nbformat": 4,
 "nbformat_minor": 5
}
