{
 "cells": [
  {
   "cell_type": "code",
   "execution_count": 1,
   "id": "5bd1fdec",
   "metadata": {},
   "outputs": [
    {
     "name": "stdout",
     "output_type": "stream",
     "text": [
      "Enter the name :Anjana\n",
      "Enter the roll number :12\n",
      "Enter the mark :80\n",
      "Name : Anjana\n",
      "Roll No : 12\n",
      "Mark : 80\n"
     ]
    }
   ],
   "source": [
    "#Program to accept the details of student like name,roll number and mark and display it\n",
    "\n",
    "sname=input(\"Enter the name :\")\n",
    "rollno=int(input(\"Enter the roll number :\"))\n",
    "mark=int(input(\"Enter the mark :\"))\n",
    "print(\"Name :\",sname)\n",
    "print(\"Roll No :\",rollno)\n",
    "print(\"Mark :\",mark)\n"
   ]
  },
  {
   "cell_type": "code",
   "execution_count": null,
   "id": "ea2f2b94",
   "metadata": {},
   "outputs": [],
   "source": []
  }
 ],
 "metadata": {
  "kernelspec": {
   "display_name": "Python 3 (ipykernel)",
   "language": "python",
   "name": "python3"
  },
  "language_info": {
   "codemirror_mode": {
    "name": "ipython",
    "version": 3
   },
   "file_extension": ".py",
   "mimetype": "text/x-python",
   "name": "python",
   "nbconvert_exporter": "python",
   "pygments_lexer": "ipython3",
   "version": "3.10.9"
  }
 },
 "nbformat": 4,
 "nbformat_minor": 5
}
