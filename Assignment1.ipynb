{
 "cells": [
  {
   "cell_type": "code",
   "execution_count": 1,
   "id": "bda1fae3",
   "metadata": {},
   "outputs": [
    {
     "name": "stdout",
     "output_type": "stream",
     "text": [
      "Enter the name :Anjana\n",
      "Enter the roll number :12\n",
      "Enter the mark :80\n",
      "Name : Anjana\n",
      "Roll No : 12\n",
      "Mark : 80\n"
     ]
    }
   ],
   "source": [
    "#Program to accept the details of student like name,roll number and mark and display it\n",
    "\n",
    "sname=input(\"Enter the name :\")\n",
    "rollno=int(input(\"Enter the roll number :\"))\n",
    "mark=int(input(\"Enter the mark :\"))\n",
    "print(\"Name :\",sname)\n",
    "print(\"Roll No :\",rollno)\n",
    "print(\"Mark :\",mark)"
   ]
  },
  {
   "cell_type": "code",
   "execution_count": 2,
   "id": "cc3a37b3",
   "metadata": {},
   "outputs": [
    {
     "name": "stdout",
     "output_type": "stream",
     "text": [
      "Temperature in Fahrenheit = 41\n",
      "Temperature in Celsius =  5.0\n"
     ]
    }
   ],
   "source": [
    "#Program to convert temperature from Fahrenheit to Celsius\n",
    "\n",
    "ftemp=float(input(\"Temperature in Fahrenheit = \"))\n",
    "celsius=(ftemp-32)*5/9\n",
    "print(\"Temperature in Celsius = \",celsius)"
   ]
  },
  {
   "cell_type": "code",
   "execution_count": 3,
   "id": "9d74accd",
   "metadata": {},
   "outputs": [
    {
     "name": "stdout",
     "output_type": "stream",
     "text": [
      "Enter the first number :3\n",
      "Enter the second number :4\n",
      "3 * 4  = 12\n"
     ]
    }
   ],
   "source": [
    "#Program to accept two numbers from user and display its product\n",
    "\n",
    "num1=int(input(\"Enter the first number :\"))\n",
    "num2=int(input(\"Enter the second number :\"))\n",
    "product=num1*num2\n",
    "print(num1 ,\"*\", num2,\" =\",product)"
   ]
  },
  {
   "cell_type": "code",
   "execution_count": 4,
   "id": "1f54ed1c",
   "metadata": {},
   "outputs": [
    {
     "name": "stdout",
     "output_type": "stream",
     "text": [
      "Learn**Python**by Developing a**Website**\n"
     ]
    }
   ],
   "source": [
    "#Program to display the string \"Learn**Python**by Developing a**Website**\"\n",
    "\n",
    "str1=\"Learn Python by Developing a Website\"\n",
    "str2=\"**\"\n",
    "print(str1[0:5]+str2+str1[6:12]+str2+str1[13:28]+str2+str1[29:]+str2)"
   ]
  },
  {
   "cell_type": "code",
   "execution_count": 5,
   "id": "cfc72ce5",
   "metadata": {},
   "outputs": [
    {
     "name": "stdout",
     "output_type": "stream",
     "text": [
      "Enter the radius of circle :4\n",
      "Area of circle=  50.26548245743669\n"
     ]
    }
   ],
   "source": [
    "#Program to accept the radius of circle and display its area\n",
    "\n",
    "import math\n",
    "rad=int(input(\"Enter the radius of circle :\"))\n",
    "area=math.pi*rad**2\n",
    "print(\"Area of circle= \",area)"
   ]
  },
  {
   "cell_type": "code",
   "execution_count": 6,
   "id": "799d0dcd",
   "metadata": {},
   "outputs": [
    {
     "name": "stdout",
     "output_type": "stream",
     "text": [
      "[23, 45, 67, 21]\n",
      "Enter the number to be inserted :30\n",
      "Enter the position :2\n",
      "New List : [23, 45, 30, 67, 21]\n"
     ]
    }
   ],
   "source": [
    "#Program to insert a number to any position in a list\n",
    "\n",
    "list1=[23,45,67,21]\n",
    "print(list1)\n",
    "number=int(input(\"Enter the number to be inserted :\"))\n",
    "position=int(input(\"Enter the position :\"))\n",
    "list1.insert(position,number)\n",
    "print(\"New List :\",list1)"
   ]
  },
  {
   "cell_type": "code",
   "execution_count": 7,
   "id": "8ed0c474",
   "metadata": {},
   "outputs": [
    {
     "name": "stdout",
     "output_type": "stream",
     "text": [
      "{'name': 'John', 'age': 50, 'salary': 8000, 'city': 'New York'}\n",
      "{'name': 'John', 'age': 50, 'salary': 8000, 'Location': 'New York'}\n"
     ]
    }
   ],
   "source": [
    "#Program to rename a key City to Location in dictionary\n",
    "\n",
    "sample_dic={\"name\":\"John\",\"age\":50,\"salary\":8000,\"city\":\"New York\"}\n",
    "print(sample_dic)\n",
    "sample_dic[\"Location\"]=sample_dic[\"city\"]\n",
    "del sample_dic[\"city\"]\n",
    "print(sample_dic)"
   ]
  },
  {
   "cell_type": "code",
   "execution_count": 8,
   "id": "a4615cc1",
   "metadata": {},
   "outputs": [
    {
     "name": "stdout",
     "output_type": "stream",
     "text": [
      "{'emp1': {'name': 'John', 'salary': 7500}, 'emp2': {'name': 'Emma', 'salary': 8000}, 'emp3': {'name': 'Brad', 'salary': 500}}\n",
      "{'emp1': {'name': 'John', 'salary': 7500}, 'emp2': {'name': 'Emma', 'salary': 8000}, 'emp3': {'name': 'Brad', 'salary': 8500}}\n"
     ]
    }
   ],
   "source": [
    "#Program to change Brad's salary from 500 to 8500\n",
    "\n",
    "sample_dic={\"emp1\":{\"name\":\"John\",\"salary\":7500},\"emp2\":{\"name\":\"Emma\",\"salary\":8000},\"emp3\":{\"name\":\"Brad\",\"salary\":500}}\n",
    "print(sample_dic)\n",
    "sample_dic['emp3']['salary']=8500\n",
    "print(sample_dic)"
   ]
  },
  {
   "cell_type": "code",
   "execution_count": 9,
   "id": "0f01a681",
   "metadata": {},
   "outputs": [
    {
     "name": "stdout",
     "output_type": "stream",
     "text": [
      "(10, 20, 43, 54, 68)\n",
      "New tuple= (43, 54)\n"
     ]
    }
   ],
   "source": [
    "#Program to copy elements 43 and 54 from one tuple to new tuple\n",
    "\n",
    "tuple1=(10,20,43,54,68)\n",
    "print(tuple1)\n",
    "newtuple=tuple1[2:4]\n",
    "print(\"New tuple=\",newtuple)"
   ]
  },
  {
   "cell_type": "code",
   "execution_count": 10,
   "id": "b34d0421",
   "metadata": {},
   "outputs": [
    {
     "name": "stdout",
     "output_type": "stream",
     "text": [
      "Number of occurence of 50=  3\n"
     ]
    }
   ],
   "source": [
    "#Program to count the number of occurence of item 50\n",
    "\n",
    "tuple1=(50,10,60,70,50,83,567,50,81)\n",
    "print(\"Number of occurence of 50= \",tuple1.count(50))"
   ]
  },
  {
   "cell_type": "code",
   "execution_count": null,
   "id": "44444790",
   "metadata": {},
   "outputs": [],
   "source": []
  }
 ],
 "metadata": {
  "kernelspec": {
   "display_name": "Python 3 (ipykernel)",
   "language": "python",
   "name": "python3"
  },
  "language_info": {
   "codemirror_mode": {
    "name": "ipython",
    "version": 3
   },
   "file_extension": ".py",
   "mimetype": "text/x-python",
   "name": "python",
   "nbconvert_exporter": "python",
   "pygments_lexer": "ipython3",
   "version": "3.10.9"
  }
 },
 "nbformat": 4,
 "nbformat_minor": 5
}
