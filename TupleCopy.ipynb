{
 "cells": [
  {
   "cell_type": "code",
   "execution_count": 4,
   "id": "82d70c6c",
   "metadata": {},
   "outputs": [
    {
     "name": "stdout",
     "output_type": "stream",
     "text": [
      "(10, 20, 43, 54, 68)\n",
      "New tuple= (43, 54)\n"
     ]
    }
   ],
   "source": [
    "#Program to copy elements 43 and 54 from one tuple to new tuple\n",
    "\n",
    "tuple1=(10,20,43,54,68)\n",
    "print(tuple1)\n",
    "newtuple=tuple1[2:4]\n",
    "print(\"New tuple=\",newtuple)"
   ]
  },
  {
   "cell_type": "code",
   "execution_count": null,
   "id": "8ce57a2f",
   "metadata": {},
   "outputs": [],
   "source": []
  }
 ],
 "metadata": {
  "kernelspec": {
   "display_name": "Python 3 (ipykernel)",
   "language": "python",
   "name": "python3"
  },
  "language_info": {
   "codemirror_mode": {
    "name": "ipython",
    "version": 3
   },
   "file_extension": ".py",
   "mimetype": "text/x-python",
   "name": "python",
   "nbconvert_exporter": "python",
   "pygments_lexer": "ipython3",
   "version": "3.10.9"
  }
 },
 "nbformat": 4,
 "nbformat_minor": 5
}
