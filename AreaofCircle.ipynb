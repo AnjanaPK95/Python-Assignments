{
 "cells": [
  {
   "cell_type": "code",
   "execution_count": 1,
   "id": "d052b389",
   "metadata": {},
   "outputs": [
    {
     "name": "stdout",
     "output_type": "stream",
     "text": [
      "Enter the radius of circle :4\n",
      "Area of circle=  50.26548245743669\n"
     ]
    }
   ],
   "source": [
    "#Program to accept the radiusof circle and display its area\n",
    "\n",
    "import math\n",
    "rad=int(input(\"Enter the radius of circle :\"))\n",
    "area=math.pi*rad**2\n",
    "print(\"Area of circle= \",area)"
   ]
  },
  {
   "cell_type": "code",
   "execution_count": null,
   "id": "b2251aa9",
   "metadata": {},
   "outputs": [],
   "source": []
  }
 ],
 "metadata": {
  "kernelspec": {
   "display_name": "Python 3 (ipykernel)",
   "language": "python",
   "name": "python3"
  },
  "language_info": {
   "codemirror_mode": {
    "name": "ipython",
    "version": 3
   },
   "file_extension": ".py",
   "mimetype": "text/x-python",
   "name": "python",
   "nbconvert_exporter": "python",
   "pygments_lexer": "ipython3",
   "version": "3.10.9"
  }
 },
 "nbformat": 4,
 "nbformat_minor": 5
}
