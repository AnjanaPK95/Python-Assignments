{
 "cells": [
  {
   "cell_type": "code",
   "execution_count": 1,
   "id": "82f1bc1a",
   "metadata": {},
   "outputs": [
    {
     "name": "stdout",
     "output_type": "stream",
     "text": [
      "Enter the first number :4\n",
      "Enter the second number :5\n",
      "4 * 5  = 20\n"
     ]
    }
   ],
   "source": [
    "#Program to accept two numbers from user and display its product\n",
    "\n",
    "num1=int(input(\"Enter the first number :\"))\n",
    "num2=int(input(\"Enter the second number :\"))\n",
    "product=num1*num2\n",
    "print(num1 ,\"*\", num2,\" =\",product)"
   ]
  },
  {
   "cell_type": "code",
   "execution_count": null,
   "id": "e3cd3c0e",
   "metadata": {},
   "outputs": [],
   "source": []
  }
 ],
 "metadata": {
  "kernelspec": {
   "display_name": "Python 3 (ipykernel)",
   "language": "python",
   "name": "python3"
  },
  "language_info": {
   "codemirror_mode": {
    "name": "ipython",
    "version": 3
   },
   "file_extension": ".py",
   "mimetype": "text/x-python",
   "name": "python",
   "nbconvert_exporter": "python",
   "pygments_lexer": "ipython3",
   "version": "3.10.9"
  }
 },
 "nbformat": 4,
 "nbformat_minor": 5
}
