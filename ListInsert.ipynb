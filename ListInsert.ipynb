{
 "cells": [
  {
   "cell_type": "code",
   "execution_count": 2,
   "id": "6aa72040",
   "metadata": {},
   "outputs": [
    {
     "name": "stdout",
     "output_type": "stream",
     "text": [
      "[23, 45, 67, 21]\n",
      "Enter the number to be inserted :30\n",
      "Enter the position :2\n",
      "New List : [23, 45, 30, 67, 21]\n"
     ]
    }
   ],
   "source": [
    "#Program to insert a number to any position in a list\n",
    "\n",
    "list1=[23,45,67,21]\n",
    "print(list1)\n",
    "number=int(input(\"Enter the number to be inserted :\"))\n",
    "position=int(input(\"Enter the position :\"))\n",
    "list1.insert(position,number)\n",
    "print(\"New List :\",list1)"
   ]
  },
  {
   "cell_type": "code",
   "execution_count": null,
   "id": "71c05e3a",
   "metadata": {},
   "outputs": [],
   "source": []
  }
 ],
 "metadata": {
  "kernelspec": {
   "display_name": "Python 3 (ipykernel)",
   "language": "python",
   "name": "python3"
  },
  "language_info": {
   "codemirror_mode": {
    "name": "ipython",
    "version": 3
   },
   "file_extension": ".py",
   "mimetype": "text/x-python",
   "name": "python",
   "nbconvert_exporter": "python",
   "pygments_lexer": "ipython3",
   "version": "3.10.9"
  }
 },
 "nbformat": 4,
 "nbformat_minor": 5
}
