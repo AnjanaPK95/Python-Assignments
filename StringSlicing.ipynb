{
 "cells": [
  {
   "cell_type": "code",
   "execution_count": 1,
   "id": "108eb0e3",
   "metadata": {},
   "outputs": [
    {
     "name": "stdout",
     "output_type": "stream",
     "text": [
      "Learn**Python**by Developing a**Website**\n"
     ]
    }
   ],
   "source": [
    "#Program to display the string \"Learn**Python**by Developing a**Website**\"\n",
    "\n",
    "str1=\"Learn Python by Developing a Website\"\n",
    "str2=\"**\"\n",
    "print(str1[0:5]+str2+str1[6:12]+str2+str1[13:28]+str2+str1[29:]+str2)"
   ]
  },
  {
   "cell_type": "code",
   "execution_count": null,
   "id": "c83b8949",
   "metadata": {},
   "outputs": [],
   "source": []
  }
 ],
 "metadata": {
  "kernelspec": {
   "display_name": "Python 3 (ipykernel)",
   "language": "python",
   "name": "python3"
  },
  "language_info": {
   "codemirror_mode": {
    "name": "ipython",
    "version": 3
   },
   "file_extension": ".py",
   "mimetype": "text/x-python",
   "name": "python",
   "nbconvert_exporter": "python",
   "pygments_lexer": "ipython3",
   "version": "3.10.9"
  }
 },
 "nbformat": 4,
 "nbformat_minor": 5
}
