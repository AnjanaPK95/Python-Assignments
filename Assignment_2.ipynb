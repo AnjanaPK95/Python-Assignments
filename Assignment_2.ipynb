{
 "cells": [
  {
   "cell_type": "code",
   "execution_count": 2,
   "id": "4c7cd6e5",
   "metadata": {},
   "outputs": [
    {
     "name": "stdout",
     "output_type": "stream",
     "text": [
      "Enter a number between 1 and 10 : 2\n",
      "Too low! Try again\n",
      "Enter a number again : 9\n",
      "Too high! Try again\n",
      "Enter a number again : 5\n",
      "Congratulations! You guessed the number correctly!\n"
     ]
    }
   ],
   "source": [
    "#Guess game\n",
    "\n",
    "import random\n",
    "secretNumber=random.randrange(1,10)\n",
    "guess=int(input(\"Enter a number between 1 and 10 : \"))\n",
    "while guess!=secretNumber:\n",
    "    if guess<secretNumber:\n",
    "        print(\"Too low! Try again\")\n",
    "        guess=int(input(\"Enter a number again : \"))\n",
    "    elif guess>secretNumber:\n",
    "        print(\"Too high! Try again\")\n",
    "        guess=int(input(\"Enter a number again : \"))\n",
    "    else:\n",
    "        break\n",
    "print(\"Congratulations! You guessed the number correctly!\")\n",
    "       "
   ]
  },
  {
   "cell_type": "code",
   "execution_count": 1,
   "id": "700c7aa4",
   "metadata": {},
   "outputs": [
    {
     "name": "stdout",
     "output_type": "stream",
     "text": [
      "Enter a number : 5\n",
      "Factorial of 5 = 120\n"
     ]
    }
   ],
   "source": [
    "#Program to find factorial of a number\n",
    "\n",
    "num=int(input(\"Enter a number : \"))\n",
    "if num>=0:\n",
    "    fact=1\n",
    "    for i in range(1,num+1):\n",
    "        fact=fact*i\n",
    "    print(\"Factorial of {} = {}\".format(num,fact))\n",
    "else:\n",
    "    print(\"You entered a negative number\")"
   ]
  },
  {
   "cell_type": "code",
   "execution_count": 1,
   "id": "760d97ed",
   "metadata": {},
   "outputs": [
    {
     "name": "stdout",
     "output_type": "stream",
     "text": [
      "Enter the length of the photo : 5\n",
      "Enter the number of photos : 3\n",
      "Enter the width of the photo : 6\n",
      "Enter the height of the photo : 4\n",
      "UPLOAD ANOTHER\n",
      "Enter the width of the photo : 7\n",
      "Enter the height of the photo : 8\n",
      "CROP IT\n",
      "Enter the width of the photo : 6\n",
      "Enter the height of the photo : 6\n",
      "ACCEPTED\n"
     ]
    }
   ],
   "source": [
    "#Profile picture dimension\n",
    "\n",
    "L=int(input(\"Enter the length of the photo : \"))\n",
    "N=int(input(\"Enter the number of photos : \"))\n",
    "while N>0:\n",
    "    W=int(input(\"Enter the width of the photo : \"))\n",
    "    H=int(input(\"Enter the height of the photo : \"))\n",
    "    if W<L or H<L:\n",
    "        print(\"UPLOAD ANOTHER\")\n",
    "        N=N-1\n",
    "    elif W==H and W>=L and H>=L:\n",
    "        print(\"ACCEPTED\")\n",
    "        N=N-1\n",
    "    elif W!=H and W>=L and H>=L:\n",
    "        print(\"CROP IT\")\n",
    "        N=N-1"
   ]
  },
  {
   "cell_type": "code",
   "execution_count": null,
   "id": "9560fb2c",
   "metadata": {},
   "outputs": [],
   "source": []
  }
 ],
 "metadata": {
  "kernelspec": {
   "display_name": "Python 3 (ipykernel)",
   "language": "python",
   "name": "python3"
  },
  "language_info": {
   "codemirror_mode": {
    "name": "ipython",
    "version": 3
   },
   "file_extension": ".py",
   "mimetype": "text/x-python",
   "name": "python",
   "nbconvert_exporter": "python",
   "pygments_lexer": "ipython3",
   "version": "3.10.9"
  }
 },
 "nbformat": 4,
 "nbformat_minor": 5
}
