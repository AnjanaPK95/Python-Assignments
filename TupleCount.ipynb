{
 "cells": [
  {
   "cell_type": "code",
   "execution_count": 1,
   "id": "a15c3ab1",
   "metadata": {},
   "outputs": [
    {
     "name": "stdout",
     "output_type": "stream",
     "text": [
      "Number of occurence of 50=  3\n"
     ]
    }
   ],
   "source": [
    "#Program to count the number of occurence of item 50\n",
    "\n",
    "tuple1=(50,10,60,70,50,83,567,50,81)\n",
    "print(\"Number of occurence of 50= \",tuple1.count(50))"
   ]
  },
  {
   "cell_type": "code",
   "execution_count": null,
   "id": "228f7fba",
   "metadata": {},
   "outputs": [],
   "source": []
  }
 ],
 "metadata": {
  "kernelspec": {
   "display_name": "Python 3 (ipykernel)",
   "language": "python",
   "name": "python3"
  },
  "language_info": {
   "codemirror_mode": {
    "name": "ipython",
    "version": 3
   },
   "file_extension": ".py",
   "mimetype": "text/x-python",
   "name": "python",
   "nbconvert_exporter": "python",
   "pygments_lexer": "ipython3",
   "version": "3.10.9"
  }
 },
 "nbformat": 4,
 "nbformat_minor": 5
}
